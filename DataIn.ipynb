{
 "cells": [
  {
   "cell_type": "code",
   "execution_count": 1,
   "id": "d892bfa8-a2e9-4faf-8be8-ea37fe994454",
   "metadata": {},
   "outputs": [
    {
     "name": "stderr",
     "output_type": "stream",
     "text": [
      "Setting spark.hadoop.yarn.resourcemanager.principal to vishrajagopalan\n",
      "Hive Session ID = 21cf597c-d779-405e-807b-1ad4d1d77bd1\n"
     ]
    }
   ],
   "source": [
    "from pyspark.sql import SparkSession\n",
    "from src.schema import tbl_schemas\n",
    "import os\n",
    "import cml.data_v1 as cmldata\n",
    "\n",
    "db_name= os.environ[\"DBNAME\"]\n",
    "tbl_name = []\n",
    "\n",
    "#db_path =   \"s3a://vr-uat1/warehouse/tablespace/external/hive\"\n",
    "#path_prefix = \"s3a://vr-uat1/data/bank/\"\n",
    "\n",
    "db_path = os.environ[\"DBPATH\"]\n",
    "path_prefix = os.environ[\"PATHPREFIX\"]\n",
    "\n",
    "CONNECTION_NAME = os.environ[\"CONNECTION_NAME\"]\n",
    "conn = cmldata.get_connection(CONNECTION_NAME)\n",
    "spark = conn.get_spark_session()\n",
    "\n",
    "# spark = (SparkSession\n",
    "#     .builder\n",
    "#     .appName(\"bank-demo\")\n",
    "#     .config(\"spark.sql.warehouse.dir\", db_path)\n",
    "#     .config(\"spark.hadoop.fs.s2a.s3guard.ddb.region\", \"us-east-1\")\n",
    "#     .config(\"spark.yarn.access.hadoopFileSystems\",\"s3a://vr-uat1/\")\n",
    "#     .master(\"local[5]\") # should be possible to change this to SPARK on Yarn or SPARK on Kubernetes\n",
    "#     .getOrCreate())\n",
    "\n",
    "#Create a demo DB if not exists\n",
    "#spark.sql(\"\".join([\"DROP DATABASE IF EXISTS \", db_name,\" CASCADE\"]))\n",
    "sql_string = \"\".join([\"CREATE DATABASE IF NOT EXISTS \", db_name])\n",
    "spark.sql(sql_string)\n",
    "\n",
    "def create_managed_table(schema, path, table_name):\n",
    "\n",
    "    df = (spark.read.format(\"csv\")\n",
    "        .option(\"header\", \"true\")\n",
    "        .option(\"schema\", \"schema\")\n",
    "        .option(\"nullValue\", \"NA\")  \n",
    "        .option(\"timestampFormat\", \"yyyy-MM-dd'T'HH:mm:SS\")\n",
    "        .option(\"mode\", \"failfast\")\n",
    "        .option(\"path\", path)\n",
    "        .load())\n",
    "    \n",
    "    (df.write \n",
    "    .mode(\"overwrite\")\n",
    "#   .option(\"path\", db_path )\n",
    "    .saveAsTable(db_name + \".\" + table_name, format=\"parquet\"))\n",
    "#    spark.sql(\"REFRESH TABLE \" + db_name + \".\" + table_name).show()\n",
    "    spark.sql(f\"SELECT * from {db_name}.{table_name}\").show(3)\n",
    "    return df"
   ]
  },
  {
   "cell_type": "code",
   "execution_count": 7,
   "id": "683f30f5-bdfc-46fe-a5d4-af4a331e99da",
   "metadata": {},
   "outputs": [
    {
     "name": "stderr",
     "output_type": "stream",
     "text": [
      "                                                                                \r"
     ]
    },
    {
     "name": "stdout",
     "output_type": "stream",
     "text": [
      "+--------+----------+------+------+---------+------+---------+--------+----+-------+\n",
      "|trans_id|account_id|  date|  type|operation|amount|  balance|k_symbol|bank|account|\n",
      "+--------+----------+------+------+---------+------+---------+--------+----+-------+\n",
      "| 3569270|      1169|971031|PRIJEM|     null|206.50|114201.60|    UROK|null|   null|\n",
      "| 3567456|      1120|971031|PRIJEM|     null| 94.80| 23446.00|    UROK|null|   null|\n",
      "| 3566517|      1094|971031|PRIJEM|     null|109.80| 25796.50|    UROK|null|   null|\n",
      "+--------+----------+------+------+---------+------+---------+--------+----+-------+\n",
      "only showing top 3 rows\n",
      "\n"
     ]
    },
    {
     "name": "stderr",
     "output_type": "stream",
     "text": [
      "                                                                                \r"
     ]
    },
    {
     "name": "stdout",
     "output_type": "stream",
     "text": [
      "+-------+----------+------+------+--------+--------+------+\n",
      "|loan_id|account_id|  date|amount|duration|payments|status|\n",
      "+-------+----------+------+------+--------+--------+------+\n",
      "|   5314|      1787|930705| 96396|      12| 8033.00|     B|\n",
      "|   5316|      1801|930711|165960|      36| 4610.00|     A|\n",
      "|   6863|      9188|930728|127080|      60| 2118.00|     A|\n",
      "+-------+----------+------+------+--------+--------+------+\n",
      "only showing top 3 rows\n",
      "\n"
     ]
    },
    {
     "name": "stderr",
     "output_type": "stream",
     "text": [
      "                                                                                \r"
     ]
    },
    {
     "name": "stdout",
     "output_type": "stream",
     "text": [
      "+----------+-----------+----------------+------+\n",
      "|account_id|district_id|       frequency|  date|\n",
      "+----------+-----------+----------------+------+\n",
      "|       576|         55|POPLATEK MESICNE|930101|\n",
      "|      3818|         74|POPLATEK MESICNE|930101|\n",
      "|       704|         55|POPLATEK MESICNE|930101|\n",
      "+----------+-----------+----------------+------+\n",
      "only showing top 3 rows\n",
      "\n"
     ]
    },
    {
     "name": "stderr",
     "output_type": "stream",
     "text": [
      "                                                                                \r"
     ]
    },
    {
     "name": "stdout",
     "output_type": "stream",
     "text": [
      "+-------+-------+-------+---------------+\n",
      "|card_id|disp_id|   type|         issued|\n",
      "+-------+-------+-------+---------------+\n",
      "|   1005|   9285|classic|931107 00:00:00|\n",
      "|    104|    588|classic|940119 00:00:00|\n",
      "|    747|   4915|classic|940205 00:00:00|\n",
      "+-------+-------+-------+---------------+\n",
      "only showing top 3 rows\n",
      "\n"
     ]
    },
    {
     "name": "stderr",
     "output_type": "stream",
     "text": [
      "                                                                                \r"
     ]
    },
    {
     "name": "stdout",
     "output_type": "stream",
     "text": [
      "+---------+------+------------+-----------+\n",
      "|client_id|gender|birth_number|district_id|\n",
      "+---------+------+------------+-----------+\n",
      "|        1|Female|      706213|         18|\n",
      "|        2|  Male|      450204|          1|\n",
      "|        3|Female|      406009|          1|\n",
      "+---------+------+------------+-----------+\n",
      "only showing top 3 rows\n",
      "\n"
     ]
    },
    {
     "name": "stderr",
     "output_type": "stream",
     "text": [
      "                                                                                \r"
     ]
    },
    {
     "name": "stdout",
     "output_type": "stream",
     "text": [
      "+--------+----------+-------+----------+-------+--------+\n",
      "|order_id|account_id|bank_to|account_to| amount|k_symbol|\n",
      "+--------+----------+-------+----------+-------+--------+\n",
      "|   29401|         1|     YZ|  87144583|2452.00|    SIPO|\n",
      "|   29402|         2|     ST|  89597016|3372.70|    UVER|\n",
      "|   29403|         2|     QR|  13943797|7266.00|    SIPO|\n",
      "+--------+----------+-------+----------+-------+--------+\n",
      "only showing top 3 rows\n",
      "\n"
     ]
    },
    {
     "name": "stderr",
     "output_type": "stream",
     "text": [
      "                                                                                \r"
     ]
    },
    {
     "name": "stdout",
     "output_type": "stream",
     "text": [
      "+-------+---------+----------+---------+\n",
      "|disp_id|client_id|account_id|     type|\n",
      "+-------+---------+----------+---------+\n",
      "|      1|        1|         1|    OWNER|\n",
      "|      2|        2|         2|    OWNER|\n",
      "|      3|        3|         2|DISPONENT|\n",
      "+-------+---------+----------+---------+\n",
      "only showing top 3 rows\n",
      "\n"
     ]
    },
    {
     "name": "stderr",
     "output_type": "stream",
     "text": [
      "                                                                                \r"
     ]
    },
    {
     "name": "stdout",
     "output_type": "stream",
     "text": [
      "+---+-----------+---------------+-------+---+---+---+---+---+-----+-----+----+----+---+-----+-----+\n",
      "| A1|         A2|             A3|     A4| A5| A6| A7| A8| A9|  A10|  A11| A12| A13|A14|  A15|  A16|\n",
      "+---+-----------+---------------+-------+---+---+---+---+---+-----+-----+----+----+---+-----+-----+\n",
      "|  1|Hl.m. Praha|         Prague|1204953|  0|  0|  0|  1|  1|100.0|12541|0.29|0.43|167|85677|99107|\n",
      "|  2|    Benesov|central Bohemia|  88884| 80| 26|  6|  2|  5| 46.7| 8507|1.67|1.85|132| 2159| 2674|\n",
      "|  3|     Beroun|central Bohemia|  75232| 55| 26|  4|  1|  5| 41.7| 8980|1.95|2.21|111| 2824| 2813|\n",
      "+---+-----------+---------------+-------+---+---+---+---+---+-----+-----+----+----+---+-----+-----+\n",
      "only showing top 3 rows\n",
      "\n"
     ]
    }
   ],
   "source": [
    "\n",
    "for index, dict in tbl_schemas.items(): \n",
    "    _ =  create_managed_table(tbl_schemas[index][\"schema\"], path_prefix+ tbl_schemas[index][\"path\"],  tbl_schemas[index][\"table\"])\n",
    "   # db1.show(10)"
   ]
  },
  {
   "cell_type": "code",
   "execution_count": 2,
   "id": "ba8d6556-4150-4635-9f61-88c9ccdd8cb1",
   "metadata": {},
   "outputs": [
    {
     "name": "stderr",
     "output_type": "stream",
     "text": [
      "[Stage 0:>                                                          (0 + 1) / 1]\r"
     ]
    },
    {
     "name": "stdout",
     "output_type": "stream",
     "text": [
      "+---------+-----------------+-----------+\n",
      "|namespace|        tableName|isTemporary|\n",
      "+---------+-----------------+-----------+\n",
      "|vr_testdb|            trans|      false|\n",
      "|vr_testdb|             loan|      false|\n",
      "|vr_testdb|          account|      false|\n",
      "|vr_testdb|             card|      false|\n",
      "|vr_testdb|           client|      false|\n",
      "|vr_testdb|           orders|      false|\n",
      "|vr_testdb|      disposition|      false|\n",
      "|vr_testdb|         district|      false|\n",
      "|vr_testdb|    trans_cleaned|      false|\n",
      "|vr_testdb|loan_full_cleaned|      false|\n",
      "|vr_testdb|    order_cleaned|      false|\n",
      "|vr_testdb|   client_cleaned|      false|\n",
      "+---------+-----------------+-----------+\n",
      "\n"
     ]
    },
    {
     "name": "stderr",
     "output_type": "stream",
     "text": [
      "                                                                                \r"
     ]
    }
   ],
   "source": [
    "spark.sql(f\"SHOW TABLES FROM {db_name}\").show()"
   ]
  },
  {
   "cell_type": "code",
   "execution_count": 3,
   "id": "adf6c1a2-b40e-48a4-917f-eceeefab5834",
   "metadata": {},
   "outputs": [
    {
     "name": "stderr",
     "output_type": "stream",
     "text": [
      "[Stage 2:>                                                          (0 + 1) / 1]\r"
     ]
    },
    {
     "name": "stdout",
     "output_type": "stream",
     "text": [
      "+--------+----------+------+------+-------------+-------+-------+--------+----+--------+\n",
      "|trans_id|account_id|  date|  type|    operation| amount|balance|k_symbol|bank| account|\n",
      "+--------+----------+------+------+-------------+-------+-------+--------+----+--------+\n",
      "|  695247|      2378|930101|PRIJEM|        VKLAD| 700.00| 700.00|    null|null|    null|\n",
      "|  171812|       576|930101|PRIJEM|        VKLAD| 900.00| 900.00|    null|null|    null|\n",
      "|  207264|       704|930101|PRIJEM|        VKLAD|1000.00|1000.00|    null|null|    null|\n",
      "| 1117247|      3818|930101|PRIJEM|        VKLAD| 600.00| 600.00|    null|null|    null|\n",
      "|  579373|      1972|930102|PRIJEM|        VKLAD| 400.00| 400.00|    null|null|    null|\n",
      "|  771035|      2632|930102|PRIJEM|        VKLAD|1100.00|1100.00|    null|null|    null|\n",
      "|  452728|      1539|930103|PRIJEM|        VKLAD| 600.00| 600.00|    null|null|    null|\n",
      "|  725751|      2484|930103|PRIJEM|        VKLAD|1100.00|1100.00|    null|null|    null|\n",
      "|  497211|      1695|930103|PRIJEM|        VKLAD| 200.00| 200.00|    null|null|    null|\n",
      "|  232960|       793|930103|PRIJEM|        VKLAD| 800.00| 800.00|    null|null|    null|\n",
      "|  505240|      1726|930103|PRIJEM|        VKLAD|1000.00|1000.00|    null|null|    null|\n",
      "|  144541|       485|930104|PRIJEM|        VKLAD| 300.00| 300.00|    null|null|    null|\n",
      "|  637741|      2177|930104|PRIJEM|        VKLAD| 800.00| 800.00|    null|null|    null|\n",
      "|  689827|      2357|930104|PRIJEM|        VKLAD| 800.00| 800.00|    null|null|    null|\n",
      "|  846006|      2881|930104|PRIJEM|        VKLAD| 700.00| 700.00|    null|null|    null|\n",
      "|  637742|      2177|930105|PRIJEM|PREVOD Z UCTU|5123.00|5923.00|  DUCHOD|  YZ|62457513|\n",
      "| 2908688|      9635|930105|PRIJEM|        VKLAD| 400.00| 400.00|    null|null|    null|\n",
      "|  232961|       793|930105|PRIJEM|PREVOD Z UCTU|3401.00|4201.00|    null|  IJ| 6149286|\n",
      "|  192096|       652|930105|PRIJEM|        VKLAD| 700.00| 700.00|    null|null|    null|\n",
      "|  542215|      1844|930106|PRIJEM|        VKLAD| 500.00| 500.00|    null|null|    null|\n",
      "+--------+----------+------+------+-------------+-------+-------+--------+----+--------+\n",
      "only showing top 20 rows\n",
      "\n"
     ]
    },
    {
     "name": "stderr",
     "output_type": "stream",
     "text": [
      "                                                                                \r"
     ]
    }
   ],
   "source": [
    "spark.sql(f\"select * from {db_name}.trans\").show()"
   ]
  },
  {
   "cell_type": "code",
   "execution_count": 4,
   "id": "b7155adb-8d23-461d-ad61-75b215361428",
   "metadata": {},
   "outputs": [],
   "source": [
    "spark.stop()"
   ]
  },
  {
   "cell_type": "code",
   "execution_count": null,
   "id": "3b3a80c7-aae0-4d15-abcd-cad3c4b55812",
   "metadata": {},
   "outputs": [],
   "source": []
  }
 ],
 "metadata": {
  "kernelspec": {
   "display_name": "Python 3 (ipykernel)",
   "language": "python",
   "name": "python3"
  },
  "language_info": {
   "codemirror_mode": {
    "name": "ipython",
    "version": 3
   },
   "file_extension": ".py",
   "mimetype": "text/x-python",
   "name": "python",
   "nbconvert_exporter": "python",
   "pygments_lexer": "ipython3",
   "version": "3.7.13"
  }
 },
 "nbformat": 4,
 "nbformat_minor": 5
}
